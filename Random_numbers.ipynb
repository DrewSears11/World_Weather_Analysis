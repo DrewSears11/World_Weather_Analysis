{
 "cells": [
  {
   "cell_type": "code",
   "execution_count": 1,
   "id": "460efac0",
   "metadata": {},
   "outputs": [],
   "source": [
    "# Import the random module.\n",
    "\n",
    "import random"
   ]
  },
  {
   "cell_type": "code",
   "execution_count": 2,
   "id": "07e9be96",
   "metadata": {},
   "outputs": [
    {
     "data": {
      "text/plain": [
       "30"
      ]
     },
     "execution_count": 2,
     "metadata": {},
     "output_type": "execute_result"
    }
   ],
   "source": [
    "random.randint(-90,90)"
   ]
  },
  {
   "cell_type": "code",
   "execution_count": 3,
   "id": "ad03eb14",
   "metadata": {},
   "outputs": [
    {
     "data": {
      "text/plain": [
       "0.7180286236609157"
      ]
     },
     "execution_count": 3,
     "metadata": {},
     "output_type": "execute_result"
    }
   ],
   "source": [
    "random.random()"
   ]
  },
  {
   "cell_type": "code",
   "execution_count": 4,
   "id": "935e2703",
   "metadata": {},
   "outputs": [],
   "source": [
    "# Import the NumPy module.\n",
    "\n",
    "import numpy as np"
   ]
  },
  {
   "cell_type": "code",
   "execution_count": 5,
   "id": "2f3c06fb",
   "metadata": {},
   "outputs": [
    {
     "data": {
      "text/plain": [
       "-85.03240461628566"
      ]
     },
     "execution_count": 5,
     "metadata": {},
     "output_type": "execute_result"
    }
   ],
   "source": [
    "np.random.uniform(-90,90)"
   ]
  },
  {
   "cell_type": "code",
   "execution_count": 6,
   "id": "0d59759b",
   "metadata": {},
   "outputs": [
    {
     "data": {
      "text/plain": [
       "array([ 33.52613523, -84.76934066,  29.0783831 , -73.05010686,\n",
       "        17.81858957,  87.12309616, -50.86672706, -16.11693644,\n",
       "       -15.88923277, -49.14181654, -78.45691011, -36.5468931 ,\n",
       "       -47.94374863, -66.89857798,  89.0839595 ,  32.08544305,\n",
       "        48.79714508,  47.30931891,  50.04467788, -53.75200646,\n",
       "       -63.00929141,   1.47729991, -42.64374282, -17.17416128,\n",
       "       -85.89572099,   7.80604223, -60.66920173, -51.18747394,\n",
       "        43.83752704,  -2.78707187,  43.16622735, -59.38490571,\n",
       "       -17.77201512,  51.76886763,  55.49543015,  -2.98101568,\n",
       "        79.77085526,  40.1891386 , -53.37907259, -14.23241334,\n",
       "         3.66224219,   8.80945441,  39.89972134, -77.20229242,\n",
       "        81.821295  , -35.07357105,  28.0427844 ,   1.39415314,\n",
       "        -7.86369763, -39.25126714])"
      ]
     },
     "execution_count": 6,
     "metadata": {},
     "output_type": "execute_result"
    }
   ],
   "source": [
    "np.random.uniform(-90,90, size=50)"
   ]
  },
  {
   "cell_type": "code",
   "execution_count": 7,
   "id": "0632cd6c",
   "metadata": {},
   "outputs": [],
   "source": [
    "#Imprort timeit\n",
    "import timeit"
   ]
  },
  {
   "cell_type": "code",
   "execution_count": 8,
   "id": "926abb17",
   "metadata": {},
   "outputs": [
    {
     "name": "stdout",
     "output_type": "stream",
     "text": [
      "33.8 µs ± 1.08 µs per loop (mean ± std. dev. of 7 runs, 10000 loops each)\n"
     ]
    }
   ],
   "source": [
    "%timeit np.random.uniform(-90,90, size=1500)"
   ]
  },
  {
   "cell_type": "code",
   "execution_count": 9,
   "id": "1da0b1fa",
   "metadata": {},
   "outputs": [
    {
     "name": "stdout",
     "output_type": "stream",
     "text": [
      "3.76 ms ± 12.7 µs per loop (mean ± std. dev. of 7 runs, 100 loops each)\n"
     ]
    }
   ],
   "source": [
    "def latitudes(size):\n",
    "    latitudes = []\n",
    "    x = 0\n",
    "    while x < (size):\n",
    "        random_lat = random.randint(-90, 90) + random.random()\n",
    "        latitudes.append(random_lat)\n",
    "        x += 1\n",
    "    return latitudes\n",
    "# Call the function with 1500.\n",
    "%timeit latitudes(1500)"
   ]
  },
  {
   "cell_type": "code",
   "execution_count": null,
   "id": "b9d9cd74",
   "metadata": {},
   "outputs": [],
   "source": []
  }
 ],
 "metadata": {
  "kernelspec": {
   "display_name": "PythonData",
   "language": "python",
   "name": "pythondata"
  },
  "language_info": {
   "codemirror_mode": {
    "name": "ipython",
    "version": 3
   },
   "file_extension": ".py",
   "mimetype": "text/x-python",
   "name": "python",
   "nbconvert_exporter": "python",
   "pygments_lexer": "ipython3",
   "version": "3.7.13"
  }
 },
 "nbformat": 4,
 "nbformat_minor": 5
}
