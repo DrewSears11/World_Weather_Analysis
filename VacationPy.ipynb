{
 "cells": [
  {
   "cell_type": "code",
   "execution_count": 1,
   "id": "f4588a16",
   "metadata": {},
   "outputs": [],
   "source": [
    "# Import the dependencies.\n",
    "import pandas as pd\n",
    "import gmaps\n",
    "import requests\n",
    "import matplotlib.pyplot as plt\n",
    "# Import the API key.\n",
    "from Config import g_key"
   ]
  },
  {
   "cell_type": "code",
   "execution_count": 2,
   "id": "fc05c80b",
   "metadata": {},
   "outputs": [
    {
     "data": {
      "text/html": [
       "<div>\n",
       "<style scoped>\n",
       "    .dataframe tbody tr th:only-of-type {\n",
       "        vertical-align: middle;\n",
       "    }\n",
       "\n",
       "    .dataframe tbody tr th {\n",
       "        vertical-align: top;\n",
       "    }\n",
       "\n",
       "    .dataframe thead th {\n",
       "        text-align: right;\n",
       "    }\n",
       "</style>\n",
       "<table border=\"1\" class=\"dataframe\">\n",
       "  <thead>\n",
       "    <tr style=\"text-align: right;\">\n",
       "      <th></th>\n",
       "      <th>City_ID</th>\n",
       "      <th>City</th>\n",
       "      <th>Country</th>\n",
       "      <th>Date</th>\n",
       "      <th>Lat</th>\n",
       "      <th>Lng</th>\n",
       "      <th>Max Temp</th>\n",
       "      <th>Humidity</th>\n",
       "      <th>Cloudiness</th>\n",
       "      <th>Wind Speed</th>\n",
       "    </tr>\n",
       "  </thead>\n",
       "  <tbody>\n",
       "    <tr>\n",
       "      <th>0</th>\n",
       "      <td>0</td>\n",
       "      <td>Bambous Virieux</td>\n",
       "      <td>MU</td>\n",
       "      <td>2022-08-01 20:20:24</td>\n",
       "      <td>-20.3428</td>\n",
       "      <td>57.7575</td>\n",
       "      <td>66.45</td>\n",
       "      <td>94</td>\n",
       "      <td>75</td>\n",
       "      <td>6.91</td>\n",
       "    </tr>\n",
       "    <tr>\n",
       "      <th>1</th>\n",
       "      <td>1</td>\n",
       "      <td>Viedma</td>\n",
       "      <td>AR</td>\n",
       "      <td>2022-08-01 20:20:24</td>\n",
       "      <td>-40.8135</td>\n",
       "      <td>-62.9967</td>\n",
       "      <td>56.80</td>\n",
       "      <td>46</td>\n",
       "      <td>100</td>\n",
       "      <td>7.31</td>\n",
       "    </tr>\n",
       "    <tr>\n",
       "      <th>2</th>\n",
       "      <td>2</td>\n",
       "      <td>Provideniya</td>\n",
       "      <td>RU</td>\n",
       "      <td>2022-08-01 20:20:24</td>\n",
       "      <td>64.3833</td>\n",
       "      <td>-173.3000</td>\n",
       "      <td>44.71</td>\n",
       "      <td>87</td>\n",
       "      <td>75</td>\n",
       "      <td>6.71</td>\n",
       "    </tr>\n",
       "    <tr>\n",
       "      <th>3</th>\n",
       "      <td>3</td>\n",
       "      <td>Sarkand</td>\n",
       "      <td>KZ</td>\n",
       "      <td>2022-08-01 20:20:24</td>\n",
       "      <td>45.4100</td>\n",
       "      <td>79.9186</td>\n",
       "      <td>64.04</td>\n",
       "      <td>62</td>\n",
       "      <td>33</td>\n",
       "      <td>6.91</td>\n",
       "    </tr>\n",
       "    <tr>\n",
       "      <th>4</th>\n",
       "      <td>4</td>\n",
       "      <td>Punta Arenas</td>\n",
       "      <td>CL</td>\n",
       "      <td>2022-08-01 20:17:05</td>\n",
       "      <td>-53.1500</td>\n",
       "      <td>-70.9167</td>\n",
       "      <td>46.51</td>\n",
       "      <td>66</td>\n",
       "      <td>75</td>\n",
       "      <td>18.41</td>\n",
       "    </tr>\n",
       "  </tbody>\n",
       "</table>\n",
       "</div>"
      ],
      "text/plain": [
       "   City_ID             City Country                 Date      Lat       Lng  \\\n",
       "0        0  Bambous Virieux      MU  2022-08-01 20:20:24 -20.3428   57.7575   \n",
       "1        1           Viedma      AR  2022-08-01 20:20:24 -40.8135  -62.9967   \n",
       "2        2      Provideniya      RU  2022-08-01 20:20:24  64.3833 -173.3000   \n",
       "3        3          Sarkand      KZ  2022-08-01 20:20:24  45.4100   79.9186   \n",
       "4        4     Punta Arenas      CL  2022-08-01 20:17:05 -53.1500  -70.9167   \n",
       "\n",
       "   Max Temp  Humidity  Cloudiness  Wind Speed  \n",
       "0     66.45        94          75        6.91  \n",
       "1     56.80        46         100        7.31  \n",
       "2     44.71        87          75        6.71  \n",
       "3     64.04        62          33        6.91  \n",
       "4     46.51        66          75       18.41  "
      ]
     },
     "execution_count": 2,
     "metadata": {},
     "output_type": "execute_result"
    }
   ],
   "source": [
    "# Store the CSV you saved created in part one into a DataFrame.\n",
    "city_data_df = pd.read_csv(\"weather_data/cities.csv\")\n",
    "city_data_df.head()"
   ]
  },
  {
   "cell_type": "code",
   "execution_count": 3,
   "id": "220f84ca",
   "metadata": {},
   "outputs": [
    {
     "data": {
      "text/plain": [
       "City_ID         int64\n",
       "City           object\n",
       "Country        object\n",
       "Date           object\n",
       "Lat           float64\n",
       "Lng           float64\n",
       "Max Temp      float64\n",
       "Humidity        int64\n",
       "Cloudiness      int64\n",
       "Wind Speed    float64\n",
       "dtype: object"
      ]
     },
     "execution_count": 3,
     "metadata": {},
     "output_type": "execute_result"
    }
   ],
   "source": [
    "city_data_df.dtypes\n"
   ]
  },
  {
   "cell_type": "code",
   "execution_count": 4,
   "id": "55500706",
   "metadata": {},
   "outputs": [],
   "source": [
    "# Configure gmaps to use your Google API key.\n",
    "gmaps.configure(api_key=g_key)"
   ]
  },
  {
   "cell_type": "code",
   "execution_count": 5,
   "id": "a7f5acc8",
   "metadata": {},
   "outputs": [],
   "source": [
    "# Get the maximum temperature.\n",
    "max_temp = city_data_df[\"Max Temp\"]\n",
    "temps = []\n",
    "for temp in max_temp:\n",
    "    temps.append(max(temp, 0))"
   ]
  },
  {
   "cell_type": "code",
   "execution_count": 6,
   "id": "603efe23",
   "metadata": {},
   "outputs": [
    {
     "data": {
      "application/vnd.jupyter.widget-view+json": {
       "model_id": "303a14dc562f46fa9a30f2ba20e4a534",
       "version_major": 2,
       "version_minor": 0
      },
      "text/plain": [
       "Figure(layout=FigureLayout(height='420px'))"
      ]
     },
     "metadata": {},
     "output_type": "display_data"
    }
   ],
   "source": [
    "## 1. Assign the locations to an array of latitude and longitude pairs.\n",
    "locations = city_data_df[[\"Lat\",\"Lng\"]]\n",
    "# 2. Assign the weights variable to some values.\n",
    "max_temp = city_data_df[\"Max Temp\"]\n",
    "# 3. Assign the figure variable to the gmaps.figure() attribute.\n",
    "fig = gmaps.figure(center=(30.0, 31.0), zoom_level=1.5)\n",
    "# 4. Assign the heatmap_layer variable to the heatmap_layer attribute and add in the locations.\n",
    "heat_layer = gmaps.heatmap_layer(locations, weights=[max(temp, 0) for temp in max_temp], dissipating=False, max_intensity=300, point_radius=4)\n",
    "\n",
    "# 5. Add the heatmap layer.\n",
    "fig.add_layer(heat_layer)\n",
    "# 6. Call the figure to plot the data.\n",
    "fig\n"
   ]
  },
  {
   "cell_type": "code",
   "execution_count": 7,
   "id": "ca92c6be",
   "metadata": {},
   "outputs": [
    {
     "data": {
      "application/vnd.jupyter.widget-view+json": {
       "model_id": "6fc9506bcc7548ef84686bf3b24ca093",
       "version_major": 2,
       "version_minor": 0
      },
      "text/plain": [
       "Figure(layout=FigureLayout(height='420px'))"
      ]
     },
     "metadata": {},
     "output_type": "display_data"
    }
   ],
   "source": [
    "# Heatmap of percent humidity\n",
    "locations = city_data_df[[\"Lat\", \"Lng\"]]\n",
    "humidity = city_data_df[\"Humidity\"]\n",
    "fig = gmaps.figure(center=(30.0, 31.0), zoom_level=1.5)\n",
    "heat_layer = gmaps.heatmap_layer(locations, weights=humidity, dissipating=False, max_intensity=300, point_radius=4)\n",
    "\n",
    "fig.add_layer(heat_layer)\n",
    "# Call the figure to plot the data.\n",
    "fig"
   ]
  },
  {
   "cell_type": "code",
   "execution_count": 8,
   "id": "20d03ca8",
   "metadata": {},
   "outputs": [
    {
     "data": {
      "application/vnd.jupyter.widget-view+json": {
       "model_id": "daf9efbb5cc64a99b1bd418e6d614a27",
       "version_major": 2,
       "version_minor": 0
      },
      "text/plain": [
       "Figure(layout=FigureLayout(height='420px'))"
      ]
     },
     "metadata": {},
     "output_type": "display_data"
    }
   ],
   "source": [
    "# Heatmap of percent Cloudiness\n",
    "locations = city_data_df[[\"Lat\", \"Lng\"]]\n",
    "clouds = city_data_df[\"Cloudiness\"]\n",
    "fig = gmaps.figure(center=(30.0, 31.0), zoom_level=1.5)\n",
    "heat_layer = gmaps.heatmap_layer(locations, weights=clouds, dissipating=False, max_intensity=300, point_radius=4)\n",
    "\n",
    "fig.add_layer(heat_layer)\n",
    "# Call the figure to plot the data.\n",
    "fig"
   ]
  },
  {
   "cell_type": "code",
   "execution_count": 9,
   "id": "0f72208c",
   "metadata": {},
   "outputs": [
    {
     "data": {
      "application/vnd.jupyter.widget-view+json": {
       "model_id": "00a98b0e54b54313ac1e21778481b342",
       "version_major": 2,
       "version_minor": 0
      },
      "text/plain": [
       "Figure(layout=FigureLayout(height='420px'))"
      ]
     },
     "metadata": {},
     "output_type": "display_data"
    }
   ],
   "source": [
    "# Heatmap of percent Wind Speed\n",
    "locations = city_data_df[[\"Lat\", \"Lng\"]]\n",
    "wind = city_data_df[\"Wind Speed\"]\n",
    "fig = gmaps.figure(center=(30.0, 31.0), zoom_level=1.5)\n",
    "heat_layer = gmaps.heatmap_layer(locations, weights=wind, dissipating=False, max_intensity=300, point_radius=4)\n",
    "\n",
    "fig.add_layer(heat_layer)\n",
    "# Call the figure to plot the data.\n",
    "fig"
   ]
  },
  {
   "cell_type": "code",
   "execution_count": 10,
   "id": "4ce70e70",
   "metadata": {},
   "outputs": [
    {
     "name": "stdout",
     "output_type": "stream",
     "text": [
      "What is the minimum temperature you would like for your trip? 75\n",
      "What is the maximum temperature you would like for your trip? 90\n"
     ]
    }
   ],
   "source": [
    "# Ask the customer to add a minimum and maximum temperature value.\n",
    "min_temp = float(input(\"What is the minimum temperature you would like for your trip? \"))\n",
    "max_temp = float(input(\"What is the maximum temperature you would like for your trip? \"))"
   ]
  },
  {
   "cell_type": "code",
   "execution_count": 11,
   "id": "f1d687ad",
   "metadata": {},
   "outputs": [
    {
     "data": {
      "text/html": [
       "<div>\n",
       "<style scoped>\n",
       "    .dataframe tbody tr th:only-of-type {\n",
       "        vertical-align: middle;\n",
       "    }\n",
       "\n",
       "    .dataframe tbody tr th {\n",
       "        vertical-align: top;\n",
       "    }\n",
       "\n",
       "    .dataframe thead th {\n",
       "        text-align: right;\n",
       "    }\n",
       "</style>\n",
       "<table border=\"1\" class=\"dataframe\">\n",
       "  <thead>\n",
       "    <tr style=\"text-align: right;\">\n",
       "      <th></th>\n",
       "      <th>City_ID</th>\n",
       "      <th>City</th>\n",
       "      <th>Country</th>\n",
       "      <th>Date</th>\n",
       "      <th>Lat</th>\n",
       "      <th>Lng</th>\n",
       "      <th>Max Temp</th>\n",
       "      <th>Humidity</th>\n",
       "      <th>Cloudiness</th>\n",
       "      <th>Wind Speed</th>\n",
       "    </tr>\n",
       "  </thead>\n",
       "  <tbody>\n",
       "    <tr>\n",
       "      <th>5</th>\n",
       "      <td>5</td>\n",
       "      <td>Raipur</td>\n",
       "      <td>IN</td>\n",
       "      <td>2022-08-01 20:20:25</td>\n",
       "      <td>21.2333</td>\n",
       "      <td>81.6333</td>\n",
       "      <td>82.63</td>\n",
       "      <td>71</td>\n",
       "      <td>100</td>\n",
       "      <td>4.52</td>\n",
       "    </tr>\n",
       "    <tr>\n",
       "      <th>7</th>\n",
       "      <td>7</td>\n",
       "      <td>Touros</td>\n",
       "      <td>BR</td>\n",
       "      <td>2022-08-01 20:20:26</td>\n",
       "      <td>-5.1989</td>\n",
       "      <td>-35.4608</td>\n",
       "      <td>78.31</td>\n",
       "      <td>77</td>\n",
       "      <td>10</td>\n",
       "      <td>14.88</td>\n",
       "    </tr>\n",
       "    <tr>\n",
       "      <th>8</th>\n",
       "      <td>8</td>\n",
       "      <td>Torbay</td>\n",
       "      <td>CA</td>\n",
       "      <td>2022-08-01 20:16:18</td>\n",
       "      <td>47.6666</td>\n",
       "      <td>-52.7314</td>\n",
       "      <td>81.88</td>\n",
       "      <td>50</td>\n",
       "      <td>75</td>\n",
       "      <td>9.22</td>\n",
       "    </tr>\n",
       "    <tr>\n",
       "      <th>9</th>\n",
       "      <td>9</td>\n",
       "      <td>Buala</td>\n",
       "      <td>SB</td>\n",
       "      <td>2022-08-01 20:20:26</td>\n",
       "      <td>-8.1450</td>\n",
       "      <td>159.5921</td>\n",
       "      <td>79.54</td>\n",
       "      <td>79</td>\n",
       "      <td>48</td>\n",
       "      <td>7.58</td>\n",
       "    </tr>\n",
       "    <tr>\n",
       "      <th>11</th>\n",
       "      <td>11</td>\n",
       "      <td>Central Point</td>\n",
       "      <td>US</td>\n",
       "      <td>2022-08-01 20:20:27</td>\n",
       "      <td>42.3760</td>\n",
       "      <td>-122.9164</td>\n",
       "      <td>89.83</td>\n",
       "      <td>51</td>\n",
       "      <td>75</td>\n",
       "      <td>8.05</td>\n",
       "    </tr>\n",
       "    <tr>\n",
       "      <th>20</th>\n",
       "      <td>20</td>\n",
       "      <td>Georgetown</td>\n",
       "      <td>MY</td>\n",
       "      <td>2022-08-01 20:19:28</td>\n",
       "      <td>5.4112</td>\n",
       "      <td>100.3354</td>\n",
       "      <td>80.89</td>\n",
       "      <td>93</td>\n",
       "      <td>40</td>\n",
       "      <td>3.44</td>\n",
       "    </tr>\n",
       "    <tr>\n",
       "      <th>29</th>\n",
       "      <td>29</td>\n",
       "      <td>Atuona</td>\n",
       "      <td>PF</td>\n",
       "      <td>2022-08-01 20:20:26</td>\n",
       "      <td>-9.8000</td>\n",
       "      <td>-139.0333</td>\n",
       "      <td>78.03</td>\n",
       "      <td>70</td>\n",
       "      <td>37</td>\n",
       "      <td>16.37</td>\n",
       "    </tr>\n",
       "    <tr>\n",
       "      <th>33</th>\n",
       "      <td>33</td>\n",
       "      <td>Ribeira Grande</td>\n",
       "      <td>PT</td>\n",
       "      <td>2022-08-01 20:20:33</td>\n",
       "      <td>38.5167</td>\n",
       "      <td>-28.7000</td>\n",
       "      <td>75.60</td>\n",
       "      <td>73</td>\n",
       "      <td>20</td>\n",
       "      <td>6.91</td>\n",
       "    </tr>\n",
       "    <tr>\n",
       "      <th>34</th>\n",
       "      <td>34</td>\n",
       "      <td>Sandakan</td>\n",
       "      <td>MY</td>\n",
       "      <td>2022-08-01 20:20:33</td>\n",
       "      <td>5.8402</td>\n",
       "      <td>118.1179</td>\n",
       "      <td>78.48</td>\n",
       "      <td>89</td>\n",
       "      <td>20</td>\n",
       "      <td>0.00</td>\n",
       "    </tr>\n",
       "    <tr>\n",
       "      <th>35</th>\n",
       "      <td>35</td>\n",
       "      <td>Vaini</td>\n",
       "      <td>TO</td>\n",
       "      <td>2022-08-01 20:20:33</td>\n",
       "      <td>-21.2000</td>\n",
       "      <td>-175.2000</td>\n",
       "      <td>77.16</td>\n",
       "      <td>94</td>\n",
       "      <td>20</td>\n",
       "      <td>4.61</td>\n",
       "    </tr>\n",
       "  </tbody>\n",
       "</table>\n",
       "</div>"
      ],
      "text/plain": [
       "    City_ID            City Country                 Date      Lat       Lng  \\\n",
       "5         5          Raipur      IN  2022-08-01 20:20:25  21.2333   81.6333   \n",
       "7         7          Touros      BR  2022-08-01 20:20:26  -5.1989  -35.4608   \n",
       "8         8          Torbay      CA  2022-08-01 20:16:18  47.6666  -52.7314   \n",
       "9         9           Buala      SB  2022-08-01 20:20:26  -8.1450  159.5921   \n",
       "11       11   Central Point      US  2022-08-01 20:20:27  42.3760 -122.9164   \n",
       "20       20      Georgetown      MY  2022-08-01 20:19:28   5.4112  100.3354   \n",
       "29       29          Atuona      PF  2022-08-01 20:20:26  -9.8000 -139.0333   \n",
       "33       33  Ribeira Grande      PT  2022-08-01 20:20:33  38.5167  -28.7000   \n",
       "34       34        Sandakan      MY  2022-08-01 20:20:33   5.8402  118.1179   \n",
       "35       35           Vaini      TO  2022-08-01 20:20:33 -21.2000 -175.2000   \n",
       "\n",
       "    Max Temp  Humidity  Cloudiness  Wind Speed  \n",
       "5      82.63        71         100        4.52  \n",
       "7      78.31        77          10       14.88  \n",
       "8      81.88        50          75        9.22  \n",
       "9      79.54        79          48        7.58  \n",
       "11     89.83        51          75        8.05  \n",
       "20     80.89        93          40        3.44  \n",
       "29     78.03        70          37       16.37  \n",
       "33     75.60        73          20        6.91  \n",
       "34     78.48        89          20        0.00  \n",
       "35     77.16        94          20        4.61  "
      ]
     },
     "execution_count": 11,
     "metadata": {},
     "output_type": "execute_result"
    }
   ],
   "source": [
    "# Filter the dataset to find the cities that fit the criteria.\n",
    "preferred_cities_df = city_data_df.loc[(city_data_df[\"Max Temp\"] <= max_temp) & \\\n",
    "                                       (city_data_df[\"Max Temp\"] >= min_temp)]\n",
    "preferred_cities_df.head(10)"
   ]
  },
  {
   "cell_type": "code",
   "execution_count": 12,
   "id": "c939575f",
   "metadata": {},
   "outputs": [
    {
     "data": {
      "text/plain": [
       "City_ID       204\n",
       "City          204\n",
       "Country       204\n",
       "Date          204\n",
       "Lat           204\n",
       "Lng           204\n",
       "Max Temp      204\n",
       "Humidity      204\n",
       "Cloudiness    204\n",
       "Wind Speed    204\n",
       "dtype: int64"
      ]
     },
     "execution_count": 12,
     "metadata": {},
     "output_type": "execute_result"
    }
   ],
   "source": [
    "preferred_cities_df.count()"
   ]
  },
  {
   "cell_type": "code",
   "execution_count": 13,
   "id": "c18bf891",
   "metadata": {},
   "outputs": [
    {
     "data": {
      "text/html": [
       "<div>\n",
       "<style scoped>\n",
       "    .dataframe tbody tr th:only-of-type {\n",
       "        vertical-align: middle;\n",
       "    }\n",
       "\n",
       "    .dataframe tbody tr th {\n",
       "        vertical-align: top;\n",
       "    }\n",
       "\n",
       "    .dataframe thead th {\n",
       "        text-align: right;\n",
       "    }\n",
       "</style>\n",
       "<table border=\"1\" class=\"dataframe\">\n",
       "  <thead>\n",
       "    <tr style=\"text-align: right;\">\n",
       "      <th></th>\n",
       "      <th>City</th>\n",
       "      <th>Country</th>\n",
       "      <th>Max Temp</th>\n",
       "      <th>Lat</th>\n",
       "      <th>Lng</th>\n",
       "      <th>Hotel Name</th>\n",
       "    </tr>\n",
       "  </thead>\n",
       "  <tbody>\n",
       "    <tr>\n",
       "      <th>5</th>\n",
       "      <td>Raipur</td>\n",
       "      <td>IN</td>\n",
       "      <td>82.63</td>\n",
       "      <td>21.2333</td>\n",
       "      <td>81.6333</td>\n",
       "      <td></td>\n",
       "    </tr>\n",
       "    <tr>\n",
       "      <th>7</th>\n",
       "      <td>Touros</td>\n",
       "      <td>BR</td>\n",
       "      <td>78.31</td>\n",
       "      <td>-5.1989</td>\n",
       "      <td>-35.4608</td>\n",
       "      <td></td>\n",
       "    </tr>\n",
       "    <tr>\n",
       "      <th>8</th>\n",
       "      <td>Torbay</td>\n",
       "      <td>CA</td>\n",
       "      <td>81.88</td>\n",
       "      <td>47.6666</td>\n",
       "      <td>-52.7314</td>\n",
       "      <td></td>\n",
       "    </tr>\n",
       "    <tr>\n",
       "      <th>9</th>\n",
       "      <td>Buala</td>\n",
       "      <td>SB</td>\n",
       "      <td>79.54</td>\n",
       "      <td>-8.1450</td>\n",
       "      <td>159.5921</td>\n",
       "      <td></td>\n",
       "    </tr>\n",
       "    <tr>\n",
       "      <th>11</th>\n",
       "      <td>Central Point</td>\n",
       "      <td>US</td>\n",
       "      <td>89.83</td>\n",
       "      <td>42.3760</td>\n",
       "      <td>-122.9164</td>\n",
       "      <td></td>\n",
       "    </tr>\n",
       "    <tr>\n",
       "      <th>20</th>\n",
       "      <td>Georgetown</td>\n",
       "      <td>MY</td>\n",
       "      <td>80.89</td>\n",
       "      <td>5.4112</td>\n",
       "      <td>100.3354</td>\n",
       "      <td></td>\n",
       "    </tr>\n",
       "    <tr>\n",
       "      <th>29</th>\n",
       "      <td>Atuona</td>\n",
       "      <td>PF</td>\n",
       "      <td>78.03</td>\n",
       "      <td>-9.8000</td>\n",
       "      <td>-139.0333</td>\n",
       "      <td></td>\n",
       "    </tr>\n",
       "    <tr>\n",
       "      <th>33</th>\n",
       "      <td>Ribeira Grande</td>\n",
       "      <td>PT</td>\n",
       "      <td>75.60</td>\n",
       "      <td>38.5167</td>\n",
       "      <td>-28.7000</td>\n",
       "      <td></td>\n",
       "    </tr>\n",
       "    <tr>\n",
       "      <th>34</th>\n",
       "      <td>Sandakan</td>\n",
       "      <td>MY</td>\n",
       "      <td>78.48</td>\n",
       "      <td>5.8402</td>\n",
       "      <td>118.1179</td>\n",
       "      <td></td>\n",
       "    </tr>\n",
       "    <tr>\n",
       "      <th>35</th>\n",
       "      <td>Vaini</td>\n",
       "      <td>TO</td>\n",
       "      <td>77.16</td>\n",
       "      <td>-21.2000</td>\n",
       "      <td>-175.2000</td>\n",
       "      <td></td>\n",
       "    </tr>\n",
       "  </tbody>\n",
       "</table>\n",
       "</div>"
      ],
      "text/plain": [
       "              City Country  Max Temp      Lat       Lng Hotel Name\n",
       "5           Raipur      IN     82.63  21.2333   81.6333           \n",
       "7           Touros      BR     78.31  -5.1989  -35.4608           \n",
       "8           Torbay      CA     81.88  47.6666  -52.7314           \n",
       "9            Buala      SB     79.54  -8.1450  159.5921           \n",
       "11   Central Point      US     89.83  42.3760 -122.9164           \n",
       "20      Georgetown      MY     80.89   5.4112  100.3354           \n",
       "29          Atuona      PF     78.03  -9.8000 -139.0333           \n",
       "33  Ribeira Grande      PT     75.60  38.5167  -28.7000           \n",
       "34        Sandakan      MY     78.48   5.8402  118.1179           \n",
       "35           Vaini      TO     77.16 -21.2000 -175.2000           "
      ]
     },
     "execution_count": 13,
     "metadata": {},
     "output_type": "execute_result"
    }
   ],
   "source": [
    "# Create DataFrame called hotel_df to store hotel names along with city, country, max temp, and coordinates.\n",
    "hotel_df = preferred_cities_df[[\"City\", \"Country\", \"Max Temp\", \"Lat\", \"Lng\"]].copy()\n",
    "hotel_df[\"Hotel Name\"] = \"\"\n",
    "hotel_df.head(10)"
   ]
  },
  {
   "cell_type": "code",
   "execution_count": 18,
   "id": "167e3222",
   "metadata": {},
   "outputs": [],
   "source": [
    "# Set parameters to search for a hotel.\n",
    "params = {\n",
    "    \"radius\": 5000,\n",
    "    \"type\": \"lodging\",\n",
    "    \"key\": g_key }"
   ]
  },
  {
   "cell_type": "code",
   "execution_count": 25,
   "id": "f46c0525",
   "metadata": {},
   "outputs": [
    {
     "name": "stdout",
     "output_type": "stream",
     "text": [
      "Hotel not found... skipping.\n",
      "Hotel not found... skipping.\n",
      "Hotel not found... skipping.\n",
      "Hotel not found... skipping.\n",
      "Hotel not found... skipping.\n",
      "Hotel not found... skipping.\n",
      "Hotel not found... skipping.\n",
      "Hotel not found... skipping.\n",
      "Hotel not found... skipping.\n",
      "Hotel not found... skipping.\n",
      "Hotel not found... skipping.\n",
      "Hotel not found... skipping.\n",
      "Hotel not found... skipping.\n",
      "Hotel not found... skipping.\n",
      "Hotel not found... skipping.\n",
      "Hotel not found... skipping.\n",
      "Hotel not found... skipping.\n",
      "Hotel not found... skipping.\n"
     ]
    }
   ],
   "source": [
    "# Iterate through the DataFrame.\n",
    "for index, row in hotel_df.iterrows():\n",
    "    # Get the latitude and longitude.\n",
    "    lat = row[\"Lat\"]\n",
    "    lng = row[\"Lng\"]\n",
    "\n",
    "    # Add the latitude and longitude to location key for the params dictionary.\n",
    "    params[\"location\"] = f\"{lat},{lng}\"\n",
    "\n",
    "    # Use the search term: \"lodging\" and our latitude and longitude.\n",
    "    base_url = \"https://maps.googleapis.com/maps/api/place/nearbysearch/json\"\n",
    "    # Make request and get the JSON data from the search.\n",
    "    hotels = requests.get(base_url, params=params).json()\n",
    "    \n",
    "    \n",
    "    # Grab the first hotel from the results and store the name.\n",
    "    try:\n",
    "        hotel_df.loc[index, \"Hotel Name\"] = hotels[\"results\"][0][\"name\"]\n",
    "    except (IndexError):\n",
    "        print(\"Hotel not found... skipping.\")\n",
    "    \n",
    "    "
   ]
  },
  {
   "cell_type": "code",
   "execution_count": 27,
   "id": "61928d23",
   "metadata": {},
   "outputs": [
    {
     "data": {
      "application/vnd.jupyter.widget-view+json": {
       "model_id": "e271b60ec8c84072846cdc6ca25eefbe",
       "version_major": 2,
       "version_minor": 0
      },
      "text/plain": [
       "Figure(layout=FigureLayout(height='420px'))"
      ]
     },
     "metadata": {},
     "output_type": "display_data"
    }
   ],
   "source": [
    "# Add a heatmap of temperature for the vacation spots and marker for each city.\n",
    "locations = hotel_df[[\"Lat\", \"Lng\"]]\n",
    "max_temp = hotel_df[\"Max Temp\"]\n",
    "fig = gmaps.figure(center=(30.0, 31.0), zoom_level=1.5)\n",
    "heat_layer = gmaps.heatmap_layer(locations, weights=max_temp,\n",
    "             dissipating=False, max_intensity=300, point_radius=4)\n",
    "marker_layer = gmaps.marker_layer(locations)\n",
    "fig.add_layer(heat_layer)\n",
    "fig.add_layer(marker_layer)\n",
    "# Call the figure to plot the data.\n",
    "fig"
   ]
  },
  {
   "cell_type": "code",
   "execution_count": 28,
   "id": "72f5f5d9",
   "metadata": {},
   "outputs": [],
   "source": [
    "info_box_template = \"\"\"\n",
    "<dl>\n",
    "<dt>Hotel Name</dt><dd>{Hotel Name}</dd>\n",
    "<dt>City</dt><dd>{City}</dd>\n",
    "<dt>Country</dt><dd>{Country}</dd>\n",
    "<dt>Max Temp</dt><dd>{Max Temp} °F</dd>\n",
    "</dl>\n",
    "\"\"\""
   ]
  },
  {
   "cell_type": "code",
   "execution_count": 29,
   "id": "0f39df28",
   "metadata": {},
   "outputs": [],
   "source": [
    "# Store the DataFrame Row.\n",
    "hotel_info = [info_box_template.format(**row) for index, row in hotel_df.iterrows()]"
   ]
  },
  {
   "cell_type": "code",
   "execution_count": 30,
   "id": "a55edfe1",
   "metadata": {},
   "outputs": [
    {
     "data": {
      "application/vnd.jupyter.widget-view+json": {
       "model_id": "e66f743719f44e7ca82e48a6dc5fcc7d",
       "version_major": 2,
       "version_minor": 0
      },
      "text/plain": [
       "Figure(layout=FigureLayout(height='420px'))"
      ]
     },
     "metadata": {},
     "output_type": "display_data"
    }
   ],
   "source": [
    "# Add a heatmap of temperature for the vacation spots and a pop-up marker for each city.\n",
    "locations = hotel_df[[\"Lat\", \"Lng\"]]\n",
    "max_temp = hotel_df[\"Max Temp\"]\n",
    "fig = gmaps.figure(center=(30.0, 31.0), zoom_level=1.5)\n",
    "heat_layer = gmaps.heatmap_layer(locations, weights=max_temp,dissipating=False,\n",
    "             max_intensity=300, point_radius=4)\n",
    "marker_layer = gmaps.marker_layer(locations, info_box_content=hotel_info)\n",
    "fig.add_layer(heat_layer)\n",
    "fig.add_layer(marker_layer)\n",
    "\n",
    "# Call the figure to plot the data.\n",
    "fig"
   ]
  },
  {
   "cell_type": "code",
   "execution_count": null,
   "id": "d0060fbd",
   "metadata": {},
   "outputs": [],
   "source": []
  }
 ],
 "metadata": {
  "kernelspec": {
   "display_name": "PythonData",
   "language": "python",
   "name": "pythondata"
  },
  "language_info": {
   "codemirror_mode": {
    "name": "ipython",
    "version": 3
   },
   "file_extension": ".py",
   "mimetype": "text/x-python",
   "name": "python",
   "nbconvert_exporter": "python",
   "pygments_lexer": "ipython3",
   "version": "3.7.13"
  }
 },
 "nbformat": 4,
 "nbformat_minor": 5
}
